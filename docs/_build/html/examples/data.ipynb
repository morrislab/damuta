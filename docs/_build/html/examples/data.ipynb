{
 "cells": [
  {
   "cell_type": "markdown",
   "metadata": {},
   "source": [
    "# Simulating and Loading Data\n",
    "\n",
    "Damuta provides two classes for input data: `DataSet` and `SignatureSet`. \n",
    "\n",
    "`DataSet` ensures that a counts dataframe and sample annotation can be easily aligned via matching on sample ids. \n",
    "\n",
    "`SignatureSet` provides some simple methods for summarizing and understanding mutational signatures, as well for extracing damage and misrepair signatures from COSMIC-format signatures. "
   ]
  },
  {
   "cell_type": "markdown",
   "metadata": {},
   "source": [
    "## Simulating Data \n",
    "\n",
    "We can simulate a dataset of mutation counts using the function `sim_parametric`. We will simulate `500` samples containing `10000` mutations each, with varying activities of `10` damage signatures, and `8` misrepair signatures. "
   ]
  },
  {
   "cell_type": "code",
   "execution_count": 6,
   "metadata": {},
   "outputs": [
    {
     "name": "stdout",
     "output_type": "stream",
     "text": [
      "simulated_sample_0      10000\n",
      "simulated_sample_1      10000\n",
      "simulated_sample_2      10000\n",
      "simulated_sample_3      10000\n",
      "simulated_sample_4      10000\n",
      "                        ...  \n",
      "simulated_sample_495    10000\n",
      "simulated_sample_496    10000\n",
      "simulated_sample_497    10000\n",
      "simulated_sample_498    10000\n",
      "simulated_sample_499    10000\n",
      "Length: 500, dtype: int64\n"
     ]
    },
    {
     "data": {
      "text/html": [
       "<div>\n",
       "<style scoped>\n",
       "    .dataframe tbody tr th:only-of-type {\n",
       "        vertical-align: middle;\n",
       "    }\n",
       "\n",
       "    .dataframe tbody tr th {\n",
       "        vertical-align: top;\n",
       "    }\n",
       "\n",
       "    .dataframe thead th {\n",
       "        text-align: right;\n",
       "    }\n",
       "</style>\n",
       "<table border=\"1\" class=\"dataframe\">\n",
       "  <thead>\n",
       "    <tr style=\"text-align: right;\">\n",
       "      <th></th>\n",
       "      <th>A[C&gt;A]A</th>\n",
       "      <th>A[C&gt;A]C</th>\n",
       "      <th>A[C&gt;A]G</th>\n",
       "      <th>A[C&gt;A]T</th>\n",
       "      <th>C[C&gt;A]A</th>\n",
       "      <th>C[C&gt;A]C</th>\n",
       "      <th>C[C&gt;A]G</th>\n",
       "      <th>C[C&gt;A]T</th>\n",
       "      <th>G[C&gt;A]A</th>\n",
       "      <th>G[C&gt;A]C</th>\n",
       "      <th>...</th>\n",
       "      <th>C[T&gt;G]G</th>\n",
       "      <th>C[T&gt;G]T</th>\n",
       "      <th>G[T&gt;G]A</th>\n",
       "      <th>G[T&gt;G]C</th>\n",
       "      <th>G[T&gt;G]G</th>\n",
       "      <th>G[T&gt;G]T</th>\n",
       "      <th>T[T&gt;G]A</th>\n",
       "      <th>T[T&gt;G]C</th>\n",
       "      <th>T[T&gt;G]G</th>\n",
       "      <th>T[T&gt;G]T</th>\n",
       "    </tr>\n",
       "  </thead>\n",
       "  <tbody>\n",
       "    <tr>\n",
       "      <th>simulated_sample_0</th>\n",
       "      <td>0</td>\n",
       "      <td>0</td>\n",
       "      <td>0</td>\n",
       "      <td>0</td>\n",
       "      <td>0</td>\n",
       "      <td>0</td>\n",
       "      <td>0</td>\n",
       "      <td>0</td>\n",
       "      <td>1</td>\n",
       "      <td>0</td>\n",
       "      <td>...</td>\n",
       "      <td>0</td>\n",
       "      <td>0</td>\n",
       "      <td>0</td>\n",
       "      <td>0</td>\n",
       "      <td>0</td>\n",
       "      <td>0</td>\n",
       "      <td>0</td>\n",
       "      <td>0</td>\n",
       "      <td>0</td>\n",
       "      <td>0</td>\n",
       "    </tr>\n",
       "    <tr>\n",
       "      <th>simulated_sample_1</th>\n",
       "      <td>0</td>\n",
       "      <td>0</td>\n",
       "      <td>0</td>\n",
       "      <td>0</td>\n",
       "      <td>0</td>\n",
       "      <td>0</td>\n",
       "      <td>0</td>\n",
       "      <td>0</td>\n",
       "      <td>0</td>\n",
       "      <td>0</td>\n",
       "      <td>...</td>\n",
       "      <td>0</td>\n",
       "      <td>0</td>\n",
       "      <td>0</td>\n",
       "      <td>0</td>\n",
       "      <td>0</td>\n",
       "      <td>0</td>\n",
       "      <td>0</td>\n",
       "      <td>0</td>\n",
       "      <td>0</td>\n",
       "      <td>0</td>\n",
       "    </tr>\n",
       "    <tr>\n",
       "      <th>simulated_sample_2</th>\n",
       "      <td>0</td>\n",
       "      <td>0</td>\n",
       "      <td>0</td>\n",
       "      <td>0</td>\n",
       "      <td>0</td>\n",
       "      <td>0</td>\n",
       "      <td>0</td>\n",
       "      <td>0</td>\n",
       "      <td>0</td>\n",
       "      <td>0</td>\n",
       "      <td>...</td>\n",
       "      <td>0</td>\n",
       "      <td>0</td>\n",
       "      <td>0</td>\n",
       "      <td>0</td>\n",
       "      <td>0</td>\n",
       "      <td>0</td>\n",
       "      <td>0</td>\n",
       "      <td>0</td>\n",
       "      <td>0</td>\n",
       "      <td>0</td>\n",
       "    </tr>\n",
       "    <tr>\n",
       "      <th>simulated_sample_3</th>\n",
       "      <td>0</td>\n",
       "      <td>0</td>\n",
       "      <td>0</td>\n",
       "      <td>0</td>\n",
       "      <td>0</td>\n",
       "      <td>0</td>\n",
       "      <td>0</td>\n",
       "      <td>0</td>\n",
       "      <td>0</td>\n",
       "      <td>0</td>\n",
       "      <td>...</td>\n",
       "      <td>0</td>\n",
       "      <td>0</td>\n",
       "      <td>0</td>\n",
       "      <td>0</td>\n",
       "      <td>0</td>\n",
       "      <td>0</td>\n",
       "      <td>0</td>\n",
       "      <td>0</td>\n",
       "      <td>0</td>\n",
       "      <td>456</td>\n",
       "    </tr>\n",
       "    <tr>\n",
       "      <th>simulated_sample_4</th>\n",
       "      <td>0</td>\n",
       "      <td>0</td>\n",
       "      <td>0</td>\n",
       "      <td>2</td>\n",
       "      <td>0</td>\n",
       "      <td>0</td>\n",
       "      <td>0</td>\n",
       "      <td>0</td>\n",
       "      <td>1</td>\n",
       "      <td>0</td>\n",
       "      <td>...</td>\n",
       "      <td>0</td>\n",
       "      <td>29</td>\n",
       "      <td>0</td>\n",
       "      <td>0</td>\n",
       "      <td>21</td>\n",
       "      <td>0</td>\n",
       "      <td>103</td>\n",
       "      <td>1</td>\n",
       "      <td>0</td>\n",
       "      <td>0</td>\n",
       "    </tr>\n",
       "  </tbody>\n",
       "</table>\n",
       "<p>5 rows × 96 columns</p>\n",
       "</div>"
      ],
      "text/plain": [
       "                    A[C>A]A  A[C>A]C  A[C>A]G  A[C>A]T  C[C>A]A  C[C>A]C  \\\n",
       "simulated_sample_0        0        0        0        0        0        0   \n",
       "simulated_sample_1        0        0        0        0        0        0   \n",
       "simulated_sample_2        0        0        0        0        0        0   \n",
       "simulated_sample_3        0        0        0        0        0        0   \n",
       "simulated_sample_4        0        0        0        2        0        0   \n",
       "\n",
       "                    C[C>A]G  C[C>A]T  G[C>A]A  G[C>A]C  ...  C[T>G]G  C[T>G]T  \\\n",
       "simulated_sample_0        0        0        1        0  ...        0        0   \n",
       "simulated_sample_1        0        0        0        0  ...        0        0   \n",
       "simulated_sample_2        0        0        0        0  ...        0        0   \n",
       "simulated_sample_3        0        0        0        0  ...        0        0   \n",
       "simulated_sample_4        0        0        1        0  ...        0       29   \n",
       "\n",
       "                    G[T>G]A  G[T>G]C  G[T>G]G  G[T>G]T  T[T>G]A  T[T>G]C  \\\n",
       "simulated_sample_0        0        0        0        0        0        0   \n",
       "simulated_sample_1        0        0        0        0        0        0   \n",
       "simulated_sample_2        0        0        0        0        0        0   \n",
       "simulated_sample_3        0        0        0        0        0        0   \n",
       "simulated_sample_4        0        0       21        0      103        1   \n",
       "\n",
       "                    T[T>G]G  T[T>G]T  \n",
       "simulated_sample_0        0        0  \n",
       "simulated_sample_1        0        0  \n",
       "simulated_sample_2        0        0  \n",
       "simulated_sample_3        0      456  \n",
       "simulated_sample_4        0        0  \n",
       "\n",
       "[5 rows x 96 columns]"
      ]
     },
     "execution_count": 6,
     "metadata": {},
     "output_type": "execute_result"
    }
   ],
   "source": [
    "from damuta.sim import sim_parametric\n",
    "\n",
    "counts, params = sim_parametric(S=500, N=10000, n_damage_sigs=10, n_misrepair_sigs=8, seed=1992)\n",
    "\n",
    "print(counts.sum(1))\n",
    "counts.head()"
   ]
  },
  {
   "cell_type": "markdown",
   "metadata": {},
   "source": [
    "Next, lets make use of `DataSet` to organize our data for us. \n",
    "\n",
    "We will simulate some metadata annotate our 500 samples with. This is most applicable for pan-cancer data, and necessary when fitting Damuta's `HierarchicalTandemLda` model, but the annotation slot of the `DataSet` is also useful for holding clinical metadata about each sample. \n",
    "\n",
    "Note: Pan-cancer data is not required. All Damuta models can just as easily fit a dataset where all samples come from the same tissue type. \n",
    "\n",
    "The `DataSet` class at minimum acts as a container for a pandas DataFrame of mutation type counts. The metadata annotation is also be a pandas DataFrame, in [tidy format](https://en.wikipedia.org/wiki/Tidy_data) (ie. each row is a sample, each column is a feature). The DataFrame index of both the count data and annotation data is the sample id. \n",
    "\n",
    "In this example, we simulated the counts dataframe, but in principle any trinucleotide count data that can be loaded with `pd.read_csv` can be used."
   ]
  },
  {
   "cell_type": "code",
   "execution_count": 7,
   "metadata": {},
   "outputs": [
    {
     "data": {
      "text/html": [
       "<div>\n",
       "<style scoped>\n",
       "    .dataframe tbody tr th:only-of-type {\n",
       "        vertical-align: middle;\n",
       "    }\n",
       "\n",
       "    .dataframe tbody tr th {\n",
       "        vertical-align: top;\n",
       "    }\n",
       "\n",
       "    .dataframe thead th {\n",
       "        text-align: right;\n",
       "    }\n",
       "</style>\n",
       "<table border=\"1\" class=\"dataframe\">\n",
       "  <thead>\n",
       "    <tr style=\"text-align: right;\">\n",
       "      <th></th>\n",
       "      <th>tissue_type</th>\n",
       "      <th>tumour_type</th>\n",
       "    </tr>\n",
       "  </thead>\n",
       "  <tbody>\n",
       "    <tr>\n",
       "      <th>simulated_sample_0</th>\n",
       "      <td>Breast-AdenoCA</td>\n",
       "      <td>primary</td>\n",
       "    </tr>\n",
       "    <tr>\n",
       "      <th>simulated_sample_1</th>\n",
       "      <td>Breast-AdenoCA</td>\n",
       "      <td>primary</td>\n",
       "    </tr>\n",
       "    <tr>\n",
       "      <th>simulated_sample_2</th>\n",
       "      <td>ColoRect-AdenoCA</td>\n",
       "      <td>primary</td>\n",
       "    </tr>\n",
       "    <tr>\n",
       "      <th>simulated_sample_3</th>\n",
       "      <td>ColoRect-AdenoCA</td>\n",
       "      <td>metastatic</td>\n",
       "    </tr>\n",
       "    <tr>\n",
       "      <th>simulated_sample_4</th>\n",
       "      <td>Kidney-RCC</td>\n",
       "      <td>metastatic</td>\n",
       "    </tr>\n",
       "  </tbody>\n",
       "</table>\n",
       "</div>"
      ],
      "text/plain": [
       "                         tissue_type tumour_type\n",
       "simulated_sample_0    Breast-AdenoCA     primary\n",
       "simulated_sample_1    Breast-AdenoCA     primary\n",
       "simulated_sample_2  ColoRect-AdenoCA     primary\n",
       "simulated_sample_3  ColoRect-AdenoCA  metastatic\n",
       "simulated_sample_4        Kidney-RCC  metastatic"
      ]
     },
     "execution_count": 7,
     "metadata": {},
     "output_type": "execute_result"
    }
   ],
   "source": [
    "import numpy as np\n",
    "import pandas as pd\n",
    "from damuta import DataSet, SignatureSet\n",
    "\n",
    "# pick from 3 tissues \n",
    "tissues = np.array([\"Breast-AdenoCA\", \"Kidney-RCC\", \"ColoRect-AdenoCA\"])\n",
    "\n",
    "# pick from primary or metastatic tumour\n",
    "types = np.array(['primary', 'metastatic'])\n",
    "\n",
    "\n",
    "# randomly assign tissue type to samples\n",
    "annotation = pd.DataFrame.from_dict({\"tissue_type\": tissues[np.random.choice(3,500)],\n",
    "                                     \"tumour_type\": types[np.random.choice(2,500)]\n",
    "                                     })\n",
    "annotation = annotation.set_index(counts.index)\n",
    "annotation.head()"
   ]
  },
  {
   "cell_type": "markdown",
   "metadata": {},
   "source": [
    "Pair the counts and metadata with the `DataSet` class."
   ]
  },
  {
   "cell_type": "code",
   "execution_count": 8,
   "metadata": {},
   "outputs": [
    {
     "name": "stdout",
     "output_type": "stream",
     "text": [
      "simulated_data contains 500 samples\n",
      "['simulated_sample_0', 'simulated_sample_1', 'simulated_sample_2', 'simulated_sample_3', 'simulated_sample_4']\n"
     ]
    }
   ],
   "source": [
    "simulated_data = DataSet(counts, annotation)\n",
    "print(f\"simulated_data contains {simulated_data.nsamples} samples\")\n",
    "print(simulated_data.ids[0:5])"
   ]
  },
  {
   "cell_type": "markdown",
   "metadata": {},
   "source": [
    "## Loading signature data\n",
    "\n",
    "Lastly, let's retrieve a set of mutational signatures from the [COSMIC database](https://cancer.sanger.ac.uk/signatures/).\n"
   ]
  },
  {
   "cell_type": "code",
   "execution_count": 9,
   "metadata": {},
   "outputs": [
    {
     "name": "stdout",
     "output_type": "stream",
     "text": [
      "COSMIC contains 78 signatures\n"
     ]
    }
   ],
   "source": [
    "signatures = pd.read_csv(\"https://cancer.sanger.ac.uk/signatures/documents/452/COSMIC_v3.2_SBS_GRCh37.txt\", sep='\\t', index_col=0 , header=0)\n",
    "\n",
    "COSMIC = SignatureSet(signatures.T)\n",
    "print(f\"COSMIC contains {COSMIC.nsigs} signatures\")"
   ]
  },
  {
   "cell_type": "markdown",
   "metadata": {},
   "source": [
    "Every COSMIC mutational signature can be re-written as a product of a damage signautre and misrepair signautre. We'll visualize these with `plotly`. "
   ]
  },
  {
   "cell_type": "code",
   "execution_count": 18,
   "metadata": {},
   "outputs": [
    {
     "data": {
      "image/png": "[encoded data removed]",
      "text/plain": [
       "<Figure size 1728x432 with 3 Axes>"
      ]
     },
     "metadata": {},
     "output_type": "display_data"
    },
    {
     "data": {
      "image/png": "[encoded data removed]",
      "text/plain": [
       "<Figure size 576x432 with 3 Axes>"
      ]
     },
     "metadata": {},
     "output_type": "display_data"
    },
    {
     "data": {
      "image/png": "[encoded data removed]",
      "text/plain": [
       "<Figure size 576x432 with 3 Axes>"
      ]
     },
     "metadata": {},
     "output_type": "display_data"
    }
   ],
   "source": [
    "from matplotlib import rcParams\n",
    "rcParams[\"figure.figsize\"]=8,6\n",
    "from damuta.plotting import plot_signatures\n",
    "\n",
    "cosmic=plot_signatures(COSMIC.signatures.loc[[\"SBS2\", \"SBS5\", \"SBS6\"]]).set_figwidth(24)\n",
    "damage=plot_signatures(COSMIC.damage_signatures.loc[[\"SBS2\", \"SBS5\", \"SBS6\"]])\n",
    "misrepair=plot_signatures(COSMIC.misrepair_signatures.loc[[\"SBS2\", \"SBS5\", \"SBS6\"]])\n"
   ]
  },
  {
   "cell_type": "markdown",
   "metadata": {},
   "source": [
    "The COSMIC signautres are a high quality reference set, as can seen in their high degree of separation (low cosine similarity between different signatures)"
   ]
  },
  {
   "cell_type": "code",
   "execution_count": 24,
   "metadata": {},
   "outputs": [
    {
     "data": {
      "text/html": [
       "<div>\n",
       "<style scoped>\n",
       "    .dataframe tbody tr th:only-of-type {\n",
       "        vertical-align: middle;\n",
       "    }\n",
       "\n",
       "    .dataframe tbody tr th {\n",
       "        vertical-align: top;\n",
       "    }\n",
       "\n",
       "    .dataframe thead th {\n",
       "        text-align: right;\n",
       "    }\n",
       "</style>\n",
       "<table border=\"1\" class=\"dataframe\">\n",
       "  <thead>\n",
       "    <tr style=\"text-align: right;\">\n",
       "      <th></th>\n",
       "      <th>Signature separation</th>\n",
       "      <th>Damage signature separation</th>\n",
       "      <th>Misrepair signature separation</th>\n",
       "    </tr>\n",
       "  </thead>\n",
       "  <tbody>\n",
       "    <tr>\n",
       "      <th>count</th>\n",
       "      <td>3003.000000</td>\n",
       "      <td>3003.000000</td>\n",
       "      <td>3003.000000</td>\n",
       "    </tr>\n",
       "    <tr>\n",
       "      <th>mean</th>\n",
       "      <td>0.188203</td>\n",
       "      <td>0.386702</td>\n",
       "      <td>0.687093</td>\n",
       "    </tr>\n",
       "    <tr>\n",
       "      <th>std</th>\n",
       "      <td>0.188601</td>\n",
       "      <td>0.240145</td>\n",
       "      <td>0.199465</td>\n",
       "    </tr>\n",
       "    <tr>\n",
       "      <th>min</th>\n",
       "      <td>0.000346</td>\n",
       "      <td>0.002237</td>\n",
       "      <td>0.029616</td>\n",
       "    </tr>\n",
       "    <tr>\n",
       "      <th>25%</th>\n",
       "      <td>0.047759</td>\n",
       "      <td>0.180305</td>\n",
       "      <td>0.560310</td>\n",
       "    </tr>\n",
       "    <tr>\n",
       "      <th>50%</th>\n",
       "      <td>0.118585</td>\n",
       "      <td>0.363235</td>\n",
       "      <td>0.721189</td>\n",
       "    </tr>\n",
       "    <tr>\n",
       "      <th>75%</th>\n",
       "      <td>0.276046</td>\n",
       "      <td>0.570838</td>\n",
       "      <td>0.844802</td>\n",
       "    </tr>\n",
       "    <tr>\n",
       "      <th>max</th>\n",
       "      <td>0.979184</td>\n",
       "      <td>0.980502</td>\n",
       "      <td>0.996766</td>\n",
       "    </tr>\n",
       "  </tbody>\n",
       "</table>\n",
       "</div>"
      ],
      "text/plain": [
       "       Signature separation  Damage signature separation  \\\n",
       "count           3003.000000                  3003.000000   \n",
       "mean               0.188203                     0.386702   \n",
       "std                0.188601                     0.240145   \n",
       "min                0.000346                     0.002237   \n",
       "25%                0.047759                     0.180305   \n",
       "50%                0.118585                     0.363235   \n",
       "75%                0.276046                     0.570838   \n",
       "max                0.979184                     0.980502   \n",
       "\n",
       "       Misrepair signature separation  \n",
       "count                     3003.000000  \n",
       "mean                         0.687093  \n",
       "std                          0.199465  \n",
       "min                          0.029616  \n",
       "25%                          0.560310  \n",
       "50%                          0.721189  \n",
       "75%                          0.844802  \n",
       "max                          0.996766  "
      ]
     },
     "execution_count": 24,
     "metadata": {},
     "output_type": "execute_result"
    }
   ],
   "source": [
    "COSMIC.summarize_separation()"
   ]
  }
 ],
 "metadata": {
  "interpreter": {
   "hash": "3a88c93fbd9f21cf52f2ce017270ae455ec526c7285c6905783c3226425ccbca"
  },
  "kernelspec": {
   "display_name": "Python 3.8.12 ('pymc3')",
   "language": "python",
   "name": "python3"
  },
  "language_info": {
   "codemirror_mode": {
    "name": "ipython",
    "version": 3
   },
   "file_extension": ".py",
   "mimetype": "text/x-python",
   "name": "python",
   "nbconvert_exporter": "python",
   "pygments_lexer": "ipython3",
   "version": "3.8.12"
  }
 },
 "nbformat": 4,
 "nbformat_minor": 2
}
