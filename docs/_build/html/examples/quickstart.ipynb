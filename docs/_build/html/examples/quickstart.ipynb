{
 "cells": [
  {
   "cell_type": "markdown",
   "id": "66b17457",
   "metadata": {},
   "source": [
    "# Quickstart"
   ]
  },
  {
   "cell_type": "code",
   "execution_count": 1,
   "id": "9f1119f5",
   "metadata": {},
   "outputs": [
    {
     "data": {
      "text/plain": [
       "'/lila/home/harrigan/damuta/docs/examples'"
      ]
     },
     "execution_count": 1,
     "metadata": {},
     "output_type": "execute_result"
    }
   ],
   "source": [
    "%pwd"
   ]
  },
  {
   "cell_type": "code",
   "execution_count": 3,
   "id": "7f4528d3",
   "metadata": {},
   "outputs": [
    {
     "data": {
      "text/plain": [
       "<Figure size 432x288 with 0 Axes>"
      ]
     },
     "metadata": {},
     "output_type": "display_data"
    }
   ],
   "source": [
    "\n",
    "import damuta as da\n"
   ]
  },
  {
   "cell_type": "markdown",
   "id": "debe71b3",
   "metadata": {},
   "source": [
    "Load COSMIC signatures provided in damuta"
   ]
  },
  {
   "cell_type": "code",
   "execution_count": null,
   "id": "3517d1dc",
   "metadata": {},
   "outputs": [],
   "source": [
    "da.load_cosmic_V3()\n"
   ]
  },
  {
   "cell_type": "code",
   "execution_count": null,
   "id": "7b95d5f6",
   "metadata": {},
   "outputs": [],
   "source": []
  }
 ],
 "metadata": {
  "kernelspec": {
   "display_name": "Python 3 (ipykernel)",
   "language": "python",
   "name": "python3"
  },
  "language_info": {
   "codemirror_mode": {
    "name": "ipython",
    "version": 3
   },
   "file_extension": ".py",
   "mimetype": "text/x-python",
   "name": "python",
   "nbconvert_exporter": "python",
   "pygments_lexer": "ipython3",
   "version": "3.8.12"
  }
 },
 "nbformat": 4,
 "nbformat_minor": 5
}
