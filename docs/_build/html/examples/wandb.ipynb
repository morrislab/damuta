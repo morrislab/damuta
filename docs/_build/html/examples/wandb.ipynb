{
 "cells": [
  {
   "cell_type": "markdown",
   "metadata": {},
   "source": [
    "# Experiment tracking with [WandB](https://wandb.ai/)\n",
    "\n",
    "[Weights and Biases](https://wandb.ai/) is an experment tracking tool that is great for its lightweight logging utilities. \n",
    "\n",
    "## Setup WandB\n",
    "After initializing a run, we can track all the Damuta model specs to the wandb run config. Specs you may want to track are: datasets (as [artifacts](https://docs.wandb.ai/guides/artifacts)), model parameters (as a [config](https://docs.wandb.ai/guides/track/config)) or metrics and plots (as [logged data](https://docs.wandb.ai/guides/track/log))\n",
    "\n",
    "**Warning**: Private data may not be appropriate to upload to WandB. See [storage FAQ](https://docs.wandb.ai/guides/artifacts/artifacts-faqs#where-are-artifact-files-stored) to ensure that WandB policies are compliant with your data-handling requirements.\n",
    "\n",
    "The wandb dashboard associated with this notebook is available [here](https://wandb.ai/harrig12/damuta-docs_examples)"
   ]
  },
  {
   "cell_type": "code",
   "execution_count": null,
   "metadata": {},
   "outputs": [],
   "source": [
    "import wandb\n",
    "import pandas as pd\n",
    "import damuta as da"
   ]
  },
  {
   "cell_type": "code",
   "execution_count": 2,
   "metadata": {},
   "outputs": [
    {
     "name": "stderr",
     "output_type": "stream",
     "text": [
      "\u001b[34m\u001b[1mwandb\u001b[0m: Currently logged in as: \u001b[33mharrig12\u001b[0m (use `wandb login --relogin` to force relogin)\n",
      "\u001b[34m\u001b[1mwandb\u001b[0m: wandb version 0.12.11 is available!  To upgrade, please run:\n",
      "\u001b[34m\u001b[1mwandb\u001b[0m:  $ pip install wandb --upgrade\n"
     ]
    },
    {
     "data": {
      "text/html": [
       "\n",
       "                Tracking run with wandb version 0.11.2<br/>\n",
       "                Syncing run <strong style=\"color:#cdcd00\">fanciful-gorge-25</strong> to <a href=\"https://wandb.ai\" target=\"_blank\">Weights & Biases</a> <a href=\"https://docs.wandb.com/integrations/jupyter.html\" target=\"_blank\">(Documentation)</a>.<br/>\n",
       "                Project page: <a href=\"https://wandb.ai/harrig12/damuta-docs_examples\" target=\"_blank\">https://wandb.ai/harrig12/damuta-docs_examples</a><br/>\n",
       "                Run page: <a href=\"https://wandb.ai/harrig12/damuta-docs_examples/runs/281tmodh\" target=\"_blank\">https://wandb.ai/harrig12/damuta-docs_examples/runs/281tmodh</a><br/>\n",
       "                Run data is saved locally in <code>/lila/home/harrigan/damuta/docs/examples/wandb/run-20220329_135008-281tmodh</code><br/><br/>\n",
       "            "
      ],
      "text/plain": [
       "<IPython.core.display.HTML object>"
      ]
     },
     "metadata": {},
     "output_type": "display_data"
    }
   ],
   "source": [
    "# Initialize wandb run\n",
    "run = wandb.init()\n",
    "\n",
    "# Read in example pcawg data\n",
    "counts = pd.read_csv('example_data/pcawg_counts.csv', index_col=0)\n",
    "annotation = pd.read_csv('example_data/pcawg_cancer_types.csv', index_col=0)\n",
    "\n",
    "# Log data as an artifact\n",
    "artifact = wandb.Artifact('pcawg', type='dataset')\n",
    "artifact.add(wandb.Table(data=counts), 'counts')\n",
    "artifact.add(wandb.Table(data=annotation), 'annotation')\n",
    "wandb.log_artifact(artifact)\n",
    "\n",
    "# Create input DataSet\n",
    "pcawg = da.DataSet(counts,annotation)"
   ]
  },
  {
   "cell_type": "code",
   "execution_count": 3,
   "metadata": {},
   "outputs": [
    {
     "data": {
      "text/html": [
       "\n",
       "    <div>\n",
       "        <style>\n",
       "            /* Turns off some styling */\n",
       "            progress {\n",
       "                /* gets rid of default border in Firefox and Opera. */\n",
       "                border: none;\n",
       "                /* Needs to be in here for Safari polyfill so background images work as expected. */\n",
       "                background-size: auto;\n",
       "            }\n",
       "            .progress-bar-interrupted, .progress-bar-interrupted::-webkit-progress-bar {\n",
       "                background: #F44336;\n",
       "            }\n",
       "        </style>\n",
       "      <progress value='1000' class='' max='1000' style='width:300px; height:20px; vertical-align: middle;'></progress>\n",
       "      100.00% [1000/1000 09:55<00:00 Average Loss = 4.9125e+07]\n",
       "    </div>\n",
       "    "
      ],
      "text/plain": [
       "<IPython.core.display.HTML object>"
      ]
     },
     "metadata": {},
     "output_type": "display_data"
    },
    {
     "name": "stderr",
     "output_type": "stream",
     "text": [
      "Finished [100%]: Average Loss = 4.9086e+07\n"
     ]
    },
    {
     "data": {
      "text/plain": [
       "<damuta.models.Lda at 0x7f0b0c29f550>"
      ]
     },
     "execution_count": 3,
     "metadata": {},
     "output_type": "execute_result"
    }
   ],
   "source": [
    "# Instantiate the model\n",
    "model = da.models.Lda(pcawg, n_sigs = 20)\n",
    "\n",
    "# Log model parameters, and fitting parameters to wandb\n",
    "run.config.update({\"n_sigs\": model.n_sigs, \"init_strategy\": model.init_strategy,\n",
    "                   \"opt_method\": model.opt_method, \"seed\": model.seed,\n",
    "                   })\n",
    "\n",
    "# Fit the model\n",
    "model.fit(n=1000)"
   ]
  },
  {
   "cell_type": "markdown",
   "metadata": {},
   "source": [
    "If necessary, The wandb config can also be updated after `model.fit()` has been called. \n",
    "\n",
    "Now that we have fit the model, we can plot the ELBO, and log the final value with wandb."
   ]
  },
  {
   "cell_type": "code",
   "execution_count": 4,
   "metadata": {},
   "outputs": [
    {
     "data": {
      "text/plain": [
       "[<matplotlib.lines.Line2D at 0x7f0a9c26bca0>]"
      ]
     },
     "execution_count": 4,
     "metadata": {},
     "output_type": "execute_result"
    },
    {
     "data": {
      "image/png": "[encoded data removed]",
      "text/plain": [
       "<Figure size 432x288 with 1 Axes>"
      ]
     },
     "metadata": {},
     "output_type": "display_data"
    }
   ],
   "source": [
    "import matplotlib.pyplot as plt\n",
    "plt.plot(model.approx.hist)"
   ]
  },
  {
   "cell_type": "code",
   "execution_count": 5,
   "metadata": {},
   "outputs": [
    {
     "data": {
      "text/html": [
       "<br/>Waiting for W&B process to finish, PID 405371<br/>Program ended successfully."
      ],
      "text/plain": [
       "<IPython.core.display.HTML object>"
      ]
     },
     "metadata": {},
     "output_type": "display_data"
    },
    {
     "data": {
      "application/vnd.jupyter.widget-view+json": {
       "model_id": "0bfbfea5fbe74301a4908ed5f38e30dc",
       "version_major": 2,
       "version_minor": 0
      },
      "text/plain": [
       "VBox(children=(Label(value=' 0.00MB of 0.00MB uploaded (0.00MB deduped)\\r'), FloatProgress(value=1.0, max=1.0)…"
      ]
     },
     "metadata": {},
     "output_type": "display_data"
    },
    {
     "data": {
      "text/html": [
       "Find user logs for this run at: <code>/lila/home/harrigan/damuta/docs/examples/wandb/run-20220329_135008-281tmodh/logs/debug.log</code>"
      ],
      "text/plain": [
       "<IPython.core.display.HTML object>"
      ]
     },
     "metadata": {},
     "output_type": "display_data"
    },
    {
     "data": {
      "text/html": [
       "Find internal logs for this run at: <code>/lila/home/harrigan/damuta/docs/examples/wandb/run-20220329_135008-281tmodh/logs/debug-internal.log</code>"
      ],
      "text/plain": [
       "<IPython.core.display.HTML object>"
      ]
     },
     "metadata": {},
     "output_type": "display_data"
    },
    {
     "data": {
      "text/html": [
       "<h3>Run summary:</h3><br/><style>\n",
       "    table.wandb td:nth-child(1) { padding: 0 10px; text-align: right }\n",
       "    </style><table class=\"wandb\">\n",
       "<tr><td>final ELBO value</td><td>43818341.95693</td></tr><tr><td>_runtime</td><td>657</td></tr><tr><td>_timestamp</td><td>1648576865</td></tr><tr><td>_step</td><td>0</td></tr></table>"
      ],
      "text/plain": [
       "<IPython.core.display.HTML object>"
      ]
     },
     "metadata": {},
     "output_type": "display_data"
    },
    {
     "data": {
      "text/html": [
       "<h3>Run history:</h3><br/><style>\n",
       "    table.wandb td:nth-child(1) { padding: 0 10px; text-align: right }\n",
       "    </style><table class=\"wandb\">\n",
       "<tr><td>final ELBO value</td><td>▁</td></tr><tr><td>_runtime</td><td>▁</td></tr><tr><td>_timestamp</td><td>▁</td></tr><tr><td>_step</td><td>▁</td></tr></table><br/>"
      ],
      "text/plain": [
       "<IPython.core.display.HTML object>"
      ]
     },
     "metadata": {},
     "output_type": "display_data"
    },
    {
     "data": {
      "text/html": [
       "Synced 5 W&B file(s), 0 media file(s), 0 artifact file(s) and 0 other file(s)"
      ],
      "text/plain": [
       "<IPython.core.display.HTML object>"
      ]
     },
     "metadata": {},
     "output_type": "display_data"
    },
    {
     "data": {
      "text/html": [
       "\n",
       "                    <br/>Synced <strong style=\"color:#cdcd00\">fanciful-gorge-25</strong>: <a href=\"https://wandb.ai/harrig12/damuta-docs_examples/runs/281tmodh\" target=\"_blank\">https://wandb.ai/harrig12/damuta-docs_examples/runs/281tmodh</a><br/>\n",
       "                "
      ],
      "text/plain": [
       "<IPython.core.display.HTML object>"
      ]
     },
     "metadata": {},
     "output_type": "display_data"
    }
   ],
   "source": [
    "wandb.log({\"final ELBO value\": model.approx.hist[-1]})\n",
    "wandb.finish()"
   ]
  },
  {
   "cell_type": "markdown",
   "metadata": {},
   "source": [
    "## Callbacks \n",
    "\n",
    "We can also make use of callbacks to log this value over the course of the fitting procedure. This way, our ELBO plot will be automatically generated by wandb, and will live-update on the wandb dashboard as we fit the model. Let 's create a new run with a callback to demonstrate this. "
   ]
  },
  {
   "cell_type": "code",
   "execution_count": 9,
   "metadata": {},
   "outputs": [
    {
     "name": "stderr",
     "output_type": "stream",
     "text": [
      "\u001b[34m\u001b[1mwandb\u001b[0m: wandb version 0.12.11 is available!  To upgrade, please run:\n",
      "\u001b[34m\u001b[1mwandb\u001b[0m:  $ pip install wandb --upgrade\n"
     ]
    },
    {
     "data": {
      "text/html": [
       "\n",
       "                Tracking run with wandb version 0.11.2<br/>\n",
       "                Syncing run <strong style=\"color:#cdcd00\">helpful-wildflower-28</strong> to <a href=\"https://wandb.ai\" target=\"_blank\">Weights & Biases</a> <a href=\"https://docs.wandb.com/integrations/jupyter.html\" target=\"_blank\">(Documentation)</a>.<br/>\n",
       "                Project page: <a href=\"https://wandb.ai/harrig12/damuta-docs_examples\" target=\"_blank\">https://wandb.ai/harrig12/damuta-docs_examples</a><br/>\n",
       "                Run page: <a href=\"https://wandb.ai/harrig12/damuta-docs_examples/runs/3ox666dh\" target=\"_blank\">https://wandb.ai/harrig12/damuta-docs_examples/runs/3ox666dh</a><br/>\n",
       "                Run data is saved locally in <code>/lila/home/harrigan/damuta/docs/examples/wandb/run-20220329_140208-3ox666dh</code><br/><br/>\n",
       "            "
      ],
      "text/plain": [
       "<IPython.core.display.HTML object>"
      ]
     },
     "metadata": {},
     "output_type": "display_data"
    },
    {
     "data": {
      "text/html": [
       "\n",
       "    <div>\n",
       "        <style>\n",
       "            /* Turns off some styling */\n",
       "            progress {\n",
       "                /* gets rid of default border in Firefox and Opera. */\n",
       "                border: none;\n",
       "                /* Needs to be in here for Safari polyfill so background images work as expected. */\n",
       "                background-size: auto;\n",
       "            }\n",
       "            .progress-bar-interrupted, .progress-bar-interrupted::-webkit-progress-bar {\n",
       "                background: #F44336;\n",
       "            }\n",
       "        </style>\n",
       "      <progress value='1000' class='' max='1000' style='width:300px; height:20px; vertical-align: middle;'></progress>\n",
       "      100.00% [1000/1000 10:00<00:00 Average Loss = 4.9057e+07]\n",
       "    </div>\n",
       "    "
      ],
      "text/plain": [
       "<IPython.core.display.HTML object>"
      ]
     },
     "metadata": {},
     "output_type": "display_data"
    },
    {
     "name": "stderr",
     "output_type": "stream",
     "text": [
      "Finished [100%]: Average Loss = 4.9012e+07\n"
     ]
    },
    {
     "data": {
      "text/plain": [
       "<damuta.models.Lda at 0x7f0a4c26b820>"
      ]
     },
     "execution_count": 9,
     "metadata": {},
     "output_type": "execute_result"
    }
   ],
   "source": [
    "from damuta.callbacks import LogELBO\n",
    "\n",
    "# Initialize run\n",
    "my_config={\"n_sigs\": 20,\n",
    "           \"init_strategy\": \"uniform\",\n",
    "           \"opt_method\": \"ADVI\", \n",
    "           \"seed\": 360\n",
    "          }\n",
    "\n",
    "run = wandb.init(config = my_config)\n",
    "\n",
    "# Log data\n",
    "artifact = wandb.Artifact('pcawg', type='dataset')\n",
    "artifact.add(wandb.Table(data=counts), 'counts')\n",
    "artifact.add(wandb.Table(data=annotation), 'annotation')\n",
    "wandb.log_artifact(artifact)\n",
    "\n",
    "# Build and fit the model\n",
    "model = da.models.Lda(dataset = da.DataSet(counts, annotation), **my_config)\n",
    "model.fit(n=1000, callbacks = [LogELBO(every=1)])"
   ]
  },
  {
   "cell_type": "code",
   "execution_count": 11,
   "metadata": {},
   "outputs": [
    {
     "data": {
      "text/html": [
       "<br/>Waiting for W&B process to finish, PID 410928<br/>Program ended successfully."
      ],
      "text/plain": [
       "<IPython.core.display.HTML object>"
      ]
     },
     "metadata": {},
     "output_type": "display_data"
    },
    {
     "data": {
      "application/vnd.jupyter.widget-view+json": {
       "model_id": "0003baaf0c98441aabb6f3bc5a3190ec",
       "version_major": 2,
       "version_minor": 0
      },
      "text/plain": [
       "VBox(children=(Label(value=' 1.10MB of 1.10MB uploaded (0.00MB deduped)\\r'), FloatProgress(value=1.0, max=1.0)…"
      ]
     },
     "metadata": {},
     "output_type": "display_data"
    },
    {
     "data": {
      "text/html": [
       "Find user logs for this run at: <code>/lila/home/harrigan/damuta/docs/examples/wandb/run-20220329_140208-3ox666dh/logs/debug.log</code>"
      ],
      "text/plain": [
       "<IPython.core.display.HTML object>"
      ]
     },
     "metadata": {},
     "output_type": "display_data"
    },
    {
     "data": {
      "text/html": [
       "Find internal logs for this run at: <code>/lila/home/harrigan/damuta/docs/examples/wandb/run-20220329_140208-3ox666dh/logs/debug-internal.log</code>"
      ],
      "text/plain": [
       "<IPython.core.display.HTML object>"
      ]
     },
     "metadata": {},
     "output_type": "display_data"
    },
    {
     "data": {
      "text/html": [
       "<h3>Run summary:</h3><br/><style>\n",
       "    table.wandb td:nth-child(1) { padding: 0 10px; text-align: right }\n",
       "    </style><table class=\"wandb\">\n",
       "<tr><td>ELBO</td><td>43278176.76101</td></tr><tr><td>_runtime</td><td>608</td></tr><tr><td>_timestamp</td><td>1648577536</td></tr><tr><td>_step</td><td>999</td></tr></table>"
      ],
      "text/plain": [
       "<IPython.core.display.HTML object>"
      ]
     },
     "metadata": {},
     "output_type": "display_data"
    },
    {
     "data": {
      "text/html": [
       "<h3>Run history:</h3><br/><style>\n",
       "    table.wandb td:nth-child(1) { padding: 0 10px; text-align: right }\n",
       "    </style><table class=\"wandb\">\n",
       "<tr><td>ELBO</td><td>███▇▇█▆▆▆▇▆▆▆▆▅▅▄▅▅▄▄▅▃▅▄▄▄▄▂▄▃▂▃▃▂▁▂▁▂▂</td></tr><tr><td>_runtime</td><td>▁▁▁▁▂▂▂▂▂▃▃▃▃▃▃▄▄▄▄▄▅▅▅▅▅▅▆▆▆▆▆▇▇▇▇▇▇███</td></tr><tr><td>_timestamp</td><td>▁▁▁▁▂▂▂▂▂▃▃▃▃▃▃▄▄▄▄▄▅▅▅▅▅▅▆▆▆▆▆▇▇▇▇▇▇███</td></tr><tr><td>_step</td><td>▁▁▁▂▂▂▂▂▂▃▃▃▃▃▄▄▄▄▄▄▅▅▅▅▅▅▆▆▆▆▆▇▇▇▇▇▇███</td></tr></table><br/>"
      ],
      "text/plain": [
       "<IPython.core.display.HTML object>"
      ]
     },
     "metadata": {},
     "output_type": "display_data"
    },
    {
     "data": {
      "text/html": [
       "Synced 5 W&B file(s), 0 media file(s), 2 artifact file(s) and 0 other file(s)"
      ],
      "text/plain": [
       "<IPython.core.display.HTML object>"
      ]
     },
     "metadata": {},
     "output_type": "display_data"
    },
    {
     "data": {
      "text/html": [
       "\n",
       "                    <br/>Synced <strong style=\"color:#cdcd00\">helpful-wildflower-28</strong>: <a href=\"https://wandb.ai/harrig12/damuta-docs_examples/runs/3ox666dh\" target=\"_blank\">https://wandb.ai/harrig12/damuta-docs_examples/runs/3ox666dh</a><br/>\n",
       "                "
      ],
      "text/plain": [
       "<IPython.core.display.HTML object>"
      ]
     },
     "metadata": {},
     "output_type": "display_data"
    }
   ],
   "source": [
    "wandb.finish()"
   ]
  },
  {
   "cell_type": "markdown",
   "metadata": {},
   "source": [
    "Callbacks can be implemented by extending the `Callback` class. At minimum, they need a `__call__` method with signature `(self, approx, loss, i)`. See [pymc3 docs](https://docs.pymc.io/en/v3/pymc-examples/examples/pymc3_howto/sampling_callback.html) for moer details.\n",
    "\n",
    "Here's the definition of `LogELBO`, the callback we just used:\n",
    "\n",
    "```\n",
    "class LogELBO(Callback):\n",
    "    \"\"\"Log ELBO using `wandb.log()`. `wandb.init()` must be run first.\n",
    "     \n",
    "    Parameters\n",
    "    ----------\n",
    "    every: int\n",
    "        Frequency at which wandb.log() is called\n",
    "        \n",
    "    Examples\n",
    "    --------\n",
    "    >>> with model:\n",
    "    ...     approx = pm.fit(n=1000, callbacks=[LogELBO(every=50)])\n",
    "    \"\"\"\n",
    "\n",
    "    def __init__(self, every=100):\n",
    "        self.every = every\n",
    "\n",
    "    def __call__(self, approx, loss, i):\n",
    "        if i % self.every or i < self.every:\n",
    "            return\n",
    "        \n",
    "        wandb.log({\"ELBO\": loss[i-1]})\n",
    "```"
   ]
  }
 ],
 "metadata": {
  "interpreter": {
   "hash": "3a88c93fbd9f21cf52f2ce017270ae455ec526c7285c6905783c3226425ccbca"
  },
  "kernelspec": {
   "display_name": "Python 3.8.12 ('pymc3')",
   "language": "python",
   "name": "python3"
  },
  "language_info": {
   "codemirror_mode": {
    "name": "ipython",
    "version": 3
   },
   "file_extension": ".py",
   "mimetype": "text/x-python",
   "name": "python",
   "nbconvert_exporter": "python",
   "pygments_lexer": "ipython3",
   "version": "3.8.12"
  }
 },
 "nbformat": 4,
 "nbformat_minor": 2
}
