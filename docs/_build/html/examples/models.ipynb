{
 "cells": [
  {
   "cell_type": "code",
   "execution_count": 1,
   "metadata": {
    "execution": {
     "iopub.execute_input": "2022-03-29T02:37:22.477611Z",
     "iopub.status.busy": "2022-03-29T02:37:22.465831Z",
     "iopub.status.idle": "2022-03-29T02:37:25.023165Z",
     "shell.execute_reply": "2022-03-29T02:37:25.024381Z"
    }
   },
   "outputs": [
    {
     "data": {
      "text/plain": [
       "<Figure size 432x288 with 0 Axes>"
      ]
     },
     "metadata": {},
     "output_type": "display_data"
    }
   ],
   "source": [
    "from damuta import DataSet, SignatureSet\n"
   ]
  },
  {
   "cell_type": "markdown",
   "metadata": {},
   "source": [
    "# Provided Models\n",
    "\n",
    "## Vanilla LDA\n",
    "\n",
    "Plain 'ol LDA\n",
    "\n",
    "Only works for classic 96-dimensional mutational signatures \n",
    "\n",
    "\n"
   ]
  },
  {
   "cell_type": "code",
   "execution_count": 2,
   "metadata": {
    "execution": {
     "iopub.execute_input": "2022-03-29T02:37:25.031173Z",
     "iopub.status.busy": "2022-03-29T02:37:25.029756Z",
     "iopub.status.idle": "2022-03-29T02:37:25.034062Z",
     "shell.execute_reply": "2022-03-29T02:37:25.032655Z"
    }
   },
   "outputs": [],
   "source": [
    "from damuta.models import Lda, TandemLda, HierarchicalTandemLda\n",
    "\n"
   ]
  },
  {
   "cell_type": "markdown",
   "metadata": {},
   "source": [
    "## Tandem LDA\n",
    "\n",
    "Two layers of LDA\n",
    "Infers activities for damage and repair signatures\n",
    "\n",
    "Can be initialised with classic 96-dimensional mutational signatures \n"
   ]
  },
  {
   "cell_type": "code",
   "execution_count": null,
   "metadata": {},
   "outputs": [],
   "source": []
  },
  {
   "cell_type": "markdown",
   "metadata": {},
   "source": [
    "\n",
    "## Hierarchical Tandem LDA\n",
    "\n",
    "The full Hierarchical Tandem LDA model is similar to the Tandem LDA model, with an added hirearchical proir to incorporate tissue-specific information. \n",
    "\n",
    "Infers activities for damage and repair signatures\n",
    "\n",
    "Can be initialised with classic 96-dimensional mutational signatures "
   ]
  }
 ],
 "metadata": {
  "language_info": {
   "codemirror_mode": {
    "name": "ipython",
    "version": 3
   },
   "file_extension": ".py",
   "mimetype": "text/x-python",
   "name": "python",
   "nbconvert_exporter": "python",
   "pygments_lexer": "ipython3",
   "version": "3.8.12"
  }
 },
 "nbformat": 4,
 "nbformat_minor": 2
}
