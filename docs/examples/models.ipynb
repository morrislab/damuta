{
 "cells": [
  {
   "cell_type": "code",
   "execution_count": null,
   "metadata": {},
   "outputs": [],
   "source": [
    "from damuta import DataSet, SignatureSet\n"
   ]
  },
  {
   "cell_type": "markdown",
   "metadata": {},
   "source": [
    "# Provided Models\n",
    "\n",
    "## Vanilla LDA\n",
    "\n",
    "Plain 'ol LDA\n",
    "\n",
    "Only works for classic 96-dimensional mutational signatures \n",
    "\n",
    "\n"
   ]
  },
  {
   "cell_type": "code",
   "execution_count": null,
   "metadata": {},
   "outputs": [],
   "source": [
    "from damuta.models import Lda, TandemLda, HierarchicalTandemLda\n",
    "\n"
   ]
  },
  {
   "cell_type": "markdown",
   "metadata": {},
   "source": [
    "## Tandem LDA\n",
    "\n",
    "Two layers of LDA\n",
    "Infers activities for damage and repair signatures\n",
    "\n",
    "Can be initialised with classic 96-dimensional mutational signatures \n"
   ]
  },
  {
   "cell_type": "code",
   "execution_count": null,
   "metadata": {},
   "outputs": [],
   "source": []
  },
  {
   "cell_type": "markdown",
   "metadata": {},
   "source": [
    "\n",
    "## Hierarchical Tandem LDA\n",
    "\n",
    "The full Hierarchical Tandem LDA model is similar to the Tandem LDA model, with an added hirearchical proir to incorporate tissue-specific information. \n",
    "\n",
    "Infers activities for damage and repair signatures\n",
    "\n",
    "Can be initialised with classic 96-dimensional mutational signatures "
   ]
  }
 ],
 "metadata": {
  "language_info": {
   "name": "python"
  },
  "orig_nbformat": 4
 },
 "nbformat": 4,
 "nbformat_minor": 2
}
